{
  "nbformat": 4,
  "nbformat_minor": 0,
  "metadata": {
    "colab": {
      "provenance": []
    },
    "kernelspec": {
      "name": "python3",
      "display_name": "Python 3"
    },
    "language_info": {
      "name": "python"
    }
  },
  "cells": [
    {
      "cell_type": "markdown",
      "source": [
        "該工具各種矩陣運算，缺失值填補方法的套件，如：KNN、IterativeImputer等。"
      ],
      "metadata": {
        "id": "IxsBdvusb_xV"
      }
    },
    {
      "cell_type": "code",
      "execution_count": null,
      "metadata": {
        "id": "8oWhOfjk92gL"
      },
      "outputs": [],
      "source": [
        "pip -q install fancyimpute"
      ]
    },
    {
      "cell_type": "markdown",
      "source": [
        "安裝相關套件"
      ],
      "metadata": {
        "id": "pP2Gb0SY_oCM"
      }
    },
    {
      "cell_type": "code",
      "source": [
        "import pandas as pd                   # 數據分析套件\n",
        "import numpy as np                   # 矩陣數學運算套件\n",
        "from sklearn.linear_model import LinearRegression    # 線性迴歸套件(擅長處理數值型資料)\n",
        "from sklearn.linear_model import LogisticRegression   # 邏輯迴歸套件(擅長處理變數型資料)\n",
        "from sklearn.ensemble import RandomForestClassifier   # 隨機森林分類器套件\n",
        "from sklearn.ensemble import RandomForestRegressor   # 隨機森林迴歸分析套件\n",
        "from sklearn.model_selection import train_test_split  # 分割資料集的套件\n",
        "from sklearn.preprocessing import LabelEncoder     # 類別編碼套件\n",
        "from sklearn.impute import SimpleImputer        # 使用簡單策略完成缺失值的套件\n",
        "from fancyimpute import IterativeImputer        # 以循環方式，將具有缺失值的每個特徵建模，為其他特徵的函數來估算缺失值的策略。\n",
        "from sklearn.metrics import accuracy_score       # 可以衡量分類模型整體性能的套件\n",
        "\n",
        "# 讀取 Titanic 數據集\n",
        "df = pd.read_csv(\"titanic.csv\")"
      ],
      "metadata": {
        "id": "vXzc_FdC94TN"
      },
      "execution_count": null,
      "outputs": []
    },
    {
      "cell_type": "code",
      "source": [
        "# 觀察那些特徵具有缺失值\n",
        "df.isnull().sum()"
      ],
      "metadata": {
        "colab": {
          "base_uri": "https://localhost:8080/",
          "height": 460
        },
        "id": "8ZQ5NO0KicOq",
        "outputId": "6eea17b5-7b5c-405e-821f-74b28ddc3514"
      },
      "execution_count": null,
      "outputs": [
        {
          "output_type": "execute_result",
          "data": {
            "text/plain": [
              "PassengerId      0\n",
              "Survived         0\n",
              "Pclass           0\n",
              "Name             0\n",
              "Sex              0\n",
              "Age            177\n",
              "SibSp            0\n",
              "Parch            0\n",
              "Ticket           0\n",
              "Fare             0\n",
              "Cabin          687\n",
              "Embarked         2\n",
              "dtype: int64"
            ],
            "text/html": [
              "<div>\n",
              "<style scoped>\n",
              "    .dataframe tbody tr th:only-of-type {\n",
              "        vertical-align: middle;\n",
              "    }\n",
              "\n",
              "    .dataframe tbody tr th {\n",
              "        vertical-align: top;\n",
              "    }\n",
              "\n",
              "    .dataframe thead th {\n",
              "        text-align: right;\n",
              "    }\n",
              "</style>\n",
              "<table border=\"1\" class=\"dataframe\">\n",
              "  <thead>\n",
              "    <tr style=\"text-align: right;\">\n",
              "      <th></th>\n",
              "      <th>0</th>\n",
              "    </tr>\n",
              "  </thead>\n",
              "  <tbody>\n",
              "    <tr>\n",
              "      <th>PassengerId</th>\n",
              "      <td>0</td>\n",
              "    </tr>\n",
              "    <tr>\n",
              "      <th>Survived</th>\n",
              "      <td>0</td>\n",
              "    </tr>\n",
              "    <tr>\n",
              "      <th>Pclass</th>\n",
              "      <td>0</td>\n",
              "    </tr>\n",
              "    <tr>\n",
              "      <th>Name</th>\n",
              "      <td>0</td>\n",
              "    </tr>\n",
              "    <tr>\n",
              "      <th>Sex</th>\n",
              "      <td>0</td>\n",
              "    </tr>\n",
              "    <tr>\n",
              "      <th>Age</th>\n",
              "      <td>177</td>\n",
              "    </tr>\n",
              "    <tr>\n",
              "      <th>SibSp</th>\n",
              "      <td>0</td>\n",
              "    </tr>\n",
              "    <tr>\n",
              "      <th>Parch</th>\n",
              "      <td>0</td>\n",
              "    </tr>\n",
              "    <tr>\n",
              "      <th>Ticket</th>\n",
              "      <td>0</td>\n",
              "    </tr>\n",
              "    <tr>\n",
              "      <th>Fare</th>\n",
              "      <td>0</td>\n",
              "    </tr>\n",
              "    <tr>\n",
              "      <th>Cabin</th>\n",
              "      <td>687</td>\n",
              "    </tr>\n",
              "    <tr>\n",
              "      <th>Embarked</th>\n",
              "      <td>2</td>\n",
              "    </tr>\n",
              "  </tbody>\n",
              "</table>\n",
              "</div><br><label><b>dtype:</b> int64</label>"
            ]
          },
          "metadata": {},
          "execution_count": 3
        }
      ]
    },
    {
      "cell_type": "markdown",
      "source": [
        "看一下數據資料(看前15行)"
      ],
      "metadata": {
        "id": "EBytNFavj8Ha"
      }
    },
    {
      "cell_type": "code",
      "source": [
        "print(df.head(15))"
      ],
      "metadata": {
        "colab": {
          "base_uri": "https://localhost:8080/"
        },
        "id": "6W3keVYIj6xL",
        "outputId": "5f5bd73e-0494-48fb-ea3e-b8f22543521e"
      },
      "execution_count": null,
      "outputs": [
        {
          "output_type": "stream",
          "name": "stdout",
          "text": [
            "    PassengerId  Survived  Pclass  \\\n",
            "0             1         0       3   \n",
            "1             2         1       1   \n",
            "2             3         1       3   \n",
            "3             4         1       1   \n",
            "4             5         0       3   \n",
            "5             6         0       3   \n",
            "6             7         0       1   \n",
            "7             8         0       3   \n",
            "8             9         1       3   \n",
            "9            10         1       2   \n",
            "10           11         1       3   \n",
            "11           12         1       1   \n",
            "12           13         0       3   \n",
            "13           14         0       3   \n",
            "14           15         0       3   \n",
            "\n",
            "                                                 Name     Sex   Age  SibSp  \\\n",
            "0                             Braund, Mr. Owen Harris    male  22.0      1   \n",
            "1   Cumings, Mrs. John Bradley (Florence Briggs Th...  female  38.0      1   \n",
            "2                              Heikkinen, Miss. Laina  female  26.0      0   \n",
            "3        Futrelle, Mrs. Jacques Heath (Lily May Peel)  female  35.0      1   \n",
            "4                            Allen, Mr. William Henry    male  35.0      0   \n",
            "5                                    Moran, Mr. James    male   NaN      0   \n",
            "6                             McCarthy, Mr. Timothy J    male  54.0      0   \n",
            "7                      Palsson, Master. Gosta Leonard    male   2.0      3   \n",
            "8   Johnson, Mrs. Oscar W (Elisabeth Vilhelmina Berg)  female  27.0      0   \n",
            "9                 Nasser, Mrs. Nicholas (Adele Achem)  female  14.0      1   \n",
            "10                    Sandstrom, Miss. Marguerite Rut  female   4.0      1   \n",
            "11                           Bonnell, Miss. Elizabeth  female  58.0      0   \n",
            "12                     Saundercock, Mr. William Henry    male  20.0      0   \n",
            "13                        Andersson, Mr. Anders Johan    male  39.0      1   \n",
            "14               Vestrom, Miss. Hulda Amanda Adolfina  female  14.0      0   \n",
            "\n",
            "    Parch            Ticket     Fare Cabin Embarked  \n",
            "0       0         A/5 21171   7.2500   NaN        S  \n",
            "1       0          PC 17599  71.2833   C85        C  \n",
            "2       0  STON/O2. 3101282   7.9250   NaN        S  \n",
            "3       0            113803  53.1000  C123        S  \n",
            "4       0            373450   8.0500   NaN        S  \n",
            "5       0            330877   8.4583   NaN        Q  \n",
            "6       0             17463  51.8625   E46        S  \n",
            "7       1            349909  21.0750   NaN        S  \n",
            "8       2            347742  11.1333   NaN        S  \n",
            "9       0            237736  30.0708   NaN        C  \n",
            "10      1           PP 9549  16.7000    G6        S  \n",
            "11      0            113783  26.5500  C103        S  \n",
            "12      0         A/5. 2151   8.0500   NaN        S  \n",
            "13      5            347082  31.2750   NaN        S  \n",
            "14      0            350406   7.8542   NaN        S  \n"
          ]
        }
      ]
    },
    {
      "cell_type": "markdown",
      "source": [
        "先進行Label Encoding"
      ],
      "metadata": {
        "id": "PZOFrTC3_Yjz"
      }
    },
    {
      "cell_type": "code",
      "source": [
        "labelencoder = LabelEncoder()\n",
        "\n",
        "# 對'Sex'欄位進行編碼\n",
        "df['Sex'] = labelencoder.fit_transform(df['Sex'].values)\n",
        "\n",
        "# 對'Embarked'欄位進行編碼\n",
        "df['Embarked'] = labelencoder.fit_transform(df['Embarked'].values)"
      ],
      "metadata": {
        "id": "iDd4Fm-m97cU"
      },
      "execution_count": null,
      "outputs": []
    },
    {
      "cell_type": "markdown",
      "source": [
        "確認數據資料(看前15行)"
      ],
      "metadata": {
        "id": "YbbB74Yo_j0T"
      }
    },
    {
      "cell_type": "code",
      "source": [
        "print(df.head(15))"
      ],
      "metadata": {
        "colab": {
          "base_uri": "https://localhost:8080/"
        },
        "id": "kYR7joOP98iP",
        "outputId": "144df459-6d73-4720-8262-0126bff6a26b"
      },
      "execution_count": null,
      "outputs": [
        {
          "output_type": "stream",
          "name": "stdout",
          "text": [
            "    PassengerId  Survived  Pclass  \\\n",
            "0             1         0       3   \n",
            "1             2         1       1   \n",
            "2             3         1       3   \n",
            "3             4         1       1   \n",
            "4             5         0       3   \n",
            "5             6         0       3   \n",
            "6             7         0       1   \n",
            "7             8         0       3   \n",
            "8             9         1       3   \n",
            "9            10         1       2   \n",
            "10           11         1       3   \n",
            "11           12         1       1   \n",
            "12           13         0       3   \n",
            "13           14         0       3   \n",
            "14           15         0       3   \n",
            "\n",
            "                                                 Name  Sex   Age  SibSp  \\\n",
            "0                             Braund, Mr. Owen Harris    1  22.0      1   \n",
            "1   Cumings, Mrs. John Bradley (Florence Briggs Th...    0  38.0      1   \n",
            "2                              Heikkinen, Miss. Laina    0  26.0      0   \n",
            "3        Futrelle, Mrs. Jacques Heath (Lily May Peel)    0  35.0      1   \n",
            "4                            Allen, Mr. William Henry    1  35.0      0   \n",
            "5                                    Moran, Mr. James    1   NaN      0   \n",
            "6                             McCarthy, Mr. Timothy J    1  54.0      0   \n",
            "7                      Palsson, Master. Gosta Leonard    1   2.0      3   \n",
            "8   Johnson, Mrs. Oscar W (Elisabeth Vilhelmina Berg)    0  27.0      0   \n",
            "9                 Nasser, Mrs. Nicholas (Adele Achem)    0  14.0      1   \n",
            "10                    Sandstrom, Miss. Marguerite Rut    0   4.0      1   \n",
            "11                           Bonnell, Miss. Elizabeth    0  58.0      0   \n",
            "12                     Saundercock, Mr. William Henry    1  20.0      0   \n",
            "13                        Andersson, Mr. Anders Johan    1  39.0      1   \n",
            "14               Vestrom, Miss. Hulda Amanda Adolfina    0  14.0      0   \n",
            "\n",
            "    Parch            Ticket     Fare Cabin  Embarked  \n",
            "0       0         A/5 21171   7.2500   NaN         2  \n",
            "1       0          PC 17599  71.2833   C85         0  \n",
            "2       0  STON/O2. 3101282   7.9250   NaN         2  \n",
            "3       0            113803  53.1000  C123         2  \n",
            "4       0            373450   8.0500   NaN         2  \n",
            "5       0            330877   8.4583   NaN         1  \n",
            "6       0             17463  51.8625   E46         2  \n",
            "7       1            349909  21.0750   NaN         2  \n",
            "8       2            347742  11.1333   NaN         2  \n",
            "9       0            237736  30.0708   NaN         0  \n",
            "10      1           PP 9549  16.7000    G6         2  \n",
            "11      0            113783  26.5500  C103         2  \n",
            "12      0         A/5. 2151   8.0500   NaN         2  \n",
            "13      5            347082  31.2750   NaN         2  \n",
            "14      0            350406   7.8542   NaN         2  \n"
          ]
        }
      ]
    },
    {
      "cell_type": "code",
      "source": [
        "# 選擇與生存率（Survived）相關的數值型變數\n",
        "# 由於主要是去分析跟存活相關的機率，而PassengerId不具特殊意義，Name、Ticket(船票號碼)、Cabin(船艙號碼)相對跟存活關聯性較少，因此此處先捨去這四個特徵。\n",
        "df = df[['Survived', 'Sex', 'Age', 'SibSp', 'Parch', 'Fare', 'Pclass', 'Embarked']]"
      ],
      "metadata": {
        "id": "M-fo0zv99-h3"
      },
      "execution_count": null,
      "outputs": []
    },
    {
      "cell_type": "code",
      "source": [
        "# 了解現在的處理後的檔案大小\n",
        "print(df.shape)"
      ],
      "metadata": {
        "colab": {
          "base_uri": "https://localhost:8080/"
        },
        "id": "CuX9gDedFVZ7",
        "outputId": "caaa5001-5770-4b80-cd47-0f4f593915a5"
      },
      "execution_count": null,
      "outputs": [
        {
          "output_type": "stream",
          "name": "stdout",
          "text": [
            "(891, 8)\n"
          ]
        }
      ]
    },
    {
      "cell_type": "markdown",
      "source": [
        "## Deletion（刪除法）"
      ],
      "metadata": {
        "id": "pVkDk7hQ-EoE"
      }
    },
    {
      "cell_type": "code",
      "source": [
        "# 刪除缺失值\n",
        "df_deleted = df.dropna()\n",
        "\n",
        "# 了解現在的處理後的檔案大小\n",
        "print('由此可以看出dropna將sex的缺失值皆刪掉了，891-177=714')\n",
        "print(df_deleted.shape)\n",
        "\n",
        "# X, y特徵選擇\n",
        "X = df_deleted[['Sex', 'Age', 'SibSp', 'Parch', 'Fare', 'Pclass', 'Embarked']]\n",
        "y = df_deleted['Survived']\n",
        "\n",
        "# 分割訓練與測試集\n",
        "X_train, X_test, y_train, y_test = train_test_split(X, y, test_size=0.2, random_state=12)\n",
        "\n",
        "# 訓練邏輯回歸模型\n",
        "model = LogisticRegression(max_iter=2000)\n",
        "model.fit(X_train, y_train)\n",
        "\n",
        "# 預測與評估\n",
        "y_pred1 = model.predict(X_test)\n",
        "accuracy_deletion = accuracy_score(y_test, y_pred1)\n",
        "print(\"Accuracy (Deletion Method):\", accuracy_deletion)"
      ],
      "metadata": {
        "colab": {
          "base_uri": "https://localhost:8080/"
        },
        "id": "2qe4NvII-DJb",
        "outputId": "eb2acd67-02de-49a4-97c5-28a861be1c42"
      },
      "execution_count": null,
      "outputs": [
        {
          "output_type": "stream",
          "name": "stdout",
          "text": [
            "由此可以看出dropna將sex的缺失值皆刪掉了，891-177=714\n",
            "(714, 8)\n",
            "Accuracy (Deletion Method): 0.7972027972027972\n"
          ]
        }
      ]
    },
    {
      "cell_type": "markdown",
      "source": [
        "## Mean Imputation（平均值補值）"
      ],
      "metadata": {
        "id": "jvuaNwKi-NNU"
      }
    },
    {
      "cell_type": "code",
      "source": [
        "# 使用平均值\"mean\"策略補值\n",
        "imputer = SimpleImputer(strategy=\"mean\")\n",
        "df_imputed = df.copy()\n",
        "\n",
        "# 對'Age'欄位進行補值\n",
        "df_imputed[['Age']] = imputer.fit_transform(df[['Age']])\n",
        "\n",
        "# 對'Embarked'欄位進行補值\n",
        "imputer_mode = SimpleImputer(strategy=\"mean\")\n",
        "df_imputed[['Embarked']] = imputer_mode.fit_transform(df[['Embarked']])\n",
        "\n",
        "# 了解現在的處理後的檔案大小\n",
        "print('由此可以看出通過平均值補值的方式，資料數量都沒變。')\n",
        "print(df_imputed.shape)\n",
        "\n",
        "# X, y特徵選擇\n",
        "X = df_imputed[['Sex', 'Age', 'SibSp', 'Parch', 'Fare', 'Pclass', 'Embarked']]\n",
        "y = df_imputed['Survived']\n",
        "\n",
        "# 分割訓練與測試集\n",
        "X_train, X_test, y_train, y_test = train_test_split(X, y, test_size=0.2, random_state=12)\n",
        "\n",
        "# 預測與評估\n",
        "model.fit(X_train, y_train)\n",
        "y_pred2 = model.predict(X_test)\n",
        "accuracy_imputation = accuracy_score(y_test, y_pred2)\n",
        "print(\"Accuracy (Imputation Method):\", accuracy_imputation)"
      ],
      "metadata": {
        "colab": {
          "base_uri": "https://localhost:8080/"
        },
        "id": "mEGjwl-f-Kf0",
        "outputId": "547c413b-c012-4afe-ece5-a1c00f96ff3d"
      },
      "execution_count": null,
      "outputs": [
        {
          "output_type": "stream",
          "name": "stdout",
          "text": [
            "由此可以看出通過平均值補值的方式，資料數量都沒變。\n",
            "(891, 8)\n",
            "Accuracy (Imputation Method): 0.7877094972067039\n"
          ]
        }
      ]
    },
    {
      "cell_type": "markdown",
      "source": [
        "## Regression Imputation（線性迴歸補值）"
      ],
      "metadata": {
        "id": "Pn2x2Rzz-QlE"
      }
    },
    {
      "cell_type": "code",
      "source": [
        "# 找出並分類'Age'缺失的數據\n",
        "df_missing = df[df['Age'].isnull()]\n",
        "df_non_missing = df.dropna(subset=['Age'])\n",
        "\n",
        "# X, y特徵選擇來進一步預測 Age\n",
        "X_train_age = df_non_missing[['Sex', 'SibSp', 'Parch', 'Fare', 'Pclass', 'Embarked']]\n",
        "y_train_age = df_non_missing['Age']\n",
        "\n",
        "#　定義要進行補值的線性迴歸模型\n",
        "regressor = LinearRegression()\n",
        "regressor.fit(X_train_age, y_train_age)\n",
        "\n",
        "# 預測缺失值、並且讓預測結果維持是小數第一位且範圍在0.1~90歲的資料型態\n",
        "df_missing.loc[:, 'Age'] = np.clip(np.round(regressor.predict(df_missing[['Sex', 'SibSp', 'Parch', 'Fare', 'Pclass', 'Embarked']]), 1), 0.1, 90)\n",
        "\n",
        "# 將填補的預測值合併拼接回原數據\n",
        "df_filled = pd.concat([df_missing, df_non_missing])\n",
        "\n",
        "# 了解現在的處理後的檔案大小\n",
        "print('由此可以看出通過線性迴歸補值的方式，資料數量也都沒變。')\n",
        "print(df_filled.shape)\n",
        "\n",
        "# 了解現在的補植後的資料長怎樣\n",
        "print(df_filled['Age'].head(10))\n",
        "\n",
        "# X, y特徵選擇\n",
        "X = df_filled[['Sex', 'Age', 'SibSp', 'Parch', 'Fare', 'Pclass', 'Embarked']]\n",
        "y = df_filled['Survived']\n",
        "\n",
        "# 分割訓練與測試集\n",
        "X_train, X_test, y_train, y_test = train_test_split(X, y, test_size=0.2, random_state=12)\n",
        "\n",
        "# 預測與評估\n",
        "model.fit(X_train, y_train)\n",
        "y_pred3 = model.predict(X_test)\n",
        "accuracy_regression = accuracy_score(y_test, y_pred3)\n",
        "print(\"Accuracy (Regression Imputation):\", accuracy_regression)\n"
      ],
      "metadata": {
        "colab": {
          "base_uri": "https://localhost:8080/"
        },
        "id": "agJer_Ug-SR8",
        "outputId": "4893315f-c6fc-4890-88ce-faa33f19f60b"
      },
      "execution_count": null,
      "outputs": [
        {
          "output_type": "stream",
          "name": "stdout",
          "text": [
            "由此可以看出通過線性迴歸補值的方式，資料數量也都沒變。\n",
            "(891, 8)\n",
            "5     27.5\n",
            "17    35.6\n",
            "19    23.4\n",
            "26    26.6\n",
            "28    24.4\n",
            "29    28.5\n",
            "31    31.8\n",
            "32    24.4\n",
            "36    26.6\n",
            "42    26.6\n",
            "Name: Age, dtype: float64\n",
            "Accuracy (Regression Imputation): 0.7821229050279329\n"
          ]
        }
      ]
    },
    {
      "cell_type": "markdown",
      "source": [
        "## MICE（多重插補法）單獨對每個變數建模"
      ],
      "metadata": {
        "id": "H1IVyYyb-WsN"
      }
    },
    {
      "cell_type": "code",
      "source": [
        "# 使用 MICE 進行補值\n",
        "imputer = IterativeImputer()\n",
        "df_mice = df.copy()\n",
        "df_mice[['Age']] = imputer.fit_transform(df[['Age']])\n",
        "df_mice[['Embarked']] = imputer.fit_transform(df[['Embarked']])\n",
        "\n",
        "print(df_mice.shape)\n",
        "\n",
        "# X, y特徵選擇\n",
        "X = df_mice[['Sex', 'Age', 'SibSp', 'Parch', 'Fare', 'Pclass', 'Embarked']]\n",
        "y = df_mice['Survived']\n",
        "\n",
        "# 分割訓練與測試集\n",
        "X_train, X_test, y_train, y_test = train_test_split(X, y, test_size=0.2, random_state=12)\n",
        "\n",
        "# 預測與評估\n",
        "model.fit(X_train, y_train)\n",
        "y_pred4 = model.predict(X_test)\n",
        "accuracy_MICE = accuracy_score(y_test, y_pred4)\n",
        "print(\"Accuracy (MICE Method):\", accuracy_MICE)"
      ],
      "metadata": {
        "colab": {
          "base_uri": "https://localhost:8080/"
        },
        "id": "eAQSBOhU-Yql",
        "outputId": "34c0b040-1596-473a-8efb-21c2c26ed21c"
      },
      "execution_count": null,
      "outputs": [
        {
          "output_type": "stream",
          "name": "stdout",
          "text": [
            "(891, 8)\n",
            "Accuracy (MICE Method): 0.7877094972067039\n"
          ]
        }
      ]
    },
    {
      "cell_type": "markdown",
      "source": [
        "## MICE（多重插補法）對所有資料變數建模"
      ],
      "metadata": {
        "id": "EHe8d6UmadTt"
      }
    },
    {
      "cell_type": "code",
      "source": [
        "# 使用 MICE 進行多重插補\n",
        "imputer = IterativeImputer()\n",
        "df_imputed = imputer.fit_transform(df)\n",
        "\n",
        "df = pd.DataFrame(df_imputed, columns=['Survived', 'Sex', 'Age', 'SibSp', 'Parch', 'Fare', 'Pclass', 'Embarked'])\n",
        "print(df.shape)\n",
        "\n",
        "# X, y特徵選擇\n",
        "X = df[['Sex', 'Age', 'SibSp', 'Parch', 'Fare', 'Pclass', 'Embarked']]\n",
        "y = df['Survived']\n",
        "\n",
        "# 分割訓練與測試集\n",
        "X_train, X_test, y_train, y_test = train_test_split(X, y, test_size=0.2, random_state=12)\n",
        "\n",
        "# 預測與評估\n",
        "model.fit(X_train, y_train)\n",
        "y_pred4 = model.predict(X_test)\n",
        "accuracy_MICE2 = accuracy_score(y_test, y_pred4)\n",
        "print(\"Accuracy (MICE2 Method):\", accuracy_MICE2)"
      ],
      "metadata": {
        "colab": {
          "base_uri": "https://localhost:8080/"
        },
        "id": "0ZcSHXZBVPnA",
        "outputId": "87d5ffe0-e3cd-4357-d90f-b76fbf7b31f1"
      },
      "execution_count": null,
      "outputs": [
        {
          "output_type": "stream",
          "name": "stdout",
          "text": [
            "(891, 8)\n",
            "Accuracy (MICE2 Method): 0.8156424581005587\n"
          ]
        }
      ]
    },
    {
      "cell_type": "markdown",
      "source": [
        "## 綜合版本"
      ],
      "metadata": {
        "id": "SjiDncAhatEH"
      }
    },
    {
      "cell_type": "code",
      "source": [
        "# 讀取數據集\n",
        "df = pd.read_csv(\"titanic.csv\")\n",
        "\n",
        "# 刪除 Embarked 缺失值（因為只有 2 筆，相對影響不大。）\n",
        "df = df.dropna(subset=[\"Embarked\"])\n",
        "\n",
        "# 因為 Age 和 Name 的相關性建立 Title 特徵，並根據 Title 來進行後續年齡補值\n",
        "# 先將姓和名分開成兩部分(根據\", \")並拿第二部分([1])，然後進一步分割(根據\".\")得到，並取第一部分得到職稱。\n",
        "df[\"Title\"] = df[\"Name\"].str.split(\", \", expand=True)[1].str.split(\".\", expand=True)[0]\n",
        "\n",
        "# 計算每個 Title 的平均(mean)年齡並將結果轉換成字典\n",
        "age_means = df.groupby(\"Title\")[\"Age\"].mean().to_dict()\n",
        "\n",
        "# 將缺失的 Age 補上字典中對應 Title 的平均年齡\n",
        "df[\"Age\"] = df.apply(lambda row: age_means[row[\"Title\"]] if pd.isnull(row[\"Age\"]) else row[\"Age\"], axis=1)\n",
        "\n",
        "# 轉換 Sex 和 Embarked 為數值類別\n",
        "df[\"Sex\"] = df[\"Sex\"].map({\"male\": 0, \"female\": 1})\n",
        "df[\"Embarked\"] = df[\"Embarked\"].map({\"C\": 0, \"Q\": 1, \"S\": 2})\n",
        "\n",
        "print(df.shape)\n",
        "\n",
        "# 特徵選擇\n",
        "X = df[['Sex', 'Age', 'SibSp', 'Parch', 'Fare', 'Pclass', 'Embarked']]\n",
        "y = df['Survived']\n",
        "\n",
        "# 分割訓練與測試集\n",
        "X_train, X_test, y_train, y_test = train_test_split(X, y, test_size=0.2, random_state=12)\n",
        "\n",
        "# 訓練邏輯回歸模型\n",
        "model = LogisticRegression(penalty='l1', solver='liblinear')\n",
        "model.fit(X_train, y_train)\n",
        "\n",
        "# 預測\n",
        "y_pred = model.predict(X_test)\n",
        "accuracy_combined1 = accuracy_score(y_test, y_pred)\n",
        "\n",
        "print(\"Accuracy (Comprehensive Approach):\", accuracy_combined1)\n"
      ],
      "metadata": {
        "colab": {
          "base_uri": "https://localhost:8080/"
        },
        "id": "Tk2IUqCFmthe",
        "outputId": "800eac4d-963e-4f89-bded-c7ca4373cc6a"
      },
      "execution_count": null,
      "outputs": [
        {
          "output_type": "stream",
          "name": "stdout",
          "text": [
            "(889, 13)\n",
            "Accuracy (Comprehensive Approach): 0.8202247191011236\n"
          ]
        },
        {
          "output_type": "stream",
          "name": "stderr",
          "text": [
            "<ipython-input-14-895418f348af>:9: SettingWithCopyWarning: \n",
            "A value is trying to be set on a copy of a slice from a DataFrame.\n",
            "Try using .loc[row_indexer,col_indexer] = value instead\n",
            "\n",
            "See the caveats in the documentation: https://pandas.pydata.org/pandas-docs/stable/user_guide/indexing.html#returning-a-view-versus-a-copy\n",
            "  df[\"Title\"] = df[\"Name\"].str.split(\", \", expand=True)[1].str.split(\".\", expand=True)[0]\n",
            "<ipython-input-14-895418f348af>:15: SettingWithCopyWarning: \n",
            "A value is trying to be set on a copy of a slice from a DataFrame.\n",
            "Try using .loc[row_indexer,col_indexer] = value instead\n",
            "\n",
            "See the caveats in the documentation: https://pandas.pydata.org/pandas-docs/stable/user_guide/indexing.html#returning-a-view-versus-a-copy\n",
            "  df[\"Age\"] = df.apply(lambda row: age_means[row[\"Title\"]] if pd.isnull(row[\"Age\"]) else row[\"Age\"], axis=1)\n",
            "<ipython-input-14-895418f348af>:18: SettingWithCopyWarning: \n",
            "A value is trying to be set on a copy of a slice from a DataFrame.\n",
            "Try using .loc[row_indexer,col_indexer] = value instead\n",
            "\n",
            "See the caveats in the documentation: https://pandas.pydata.org/pandas-docs/stable/user_guide/indexing.html#returning-a-view-versus-a-copy\n",
            "  df[\"Sex\"] = df[\"Sex\"].map({\"male\": 0, \"female\": 1})\n",
            "<ipython-input-14-895418f348af>:19: SettingWithCopyWarning: \n",
            "A value is trying to be set on a copy of a slice from a DataFrame.\n",
            "Try using .loc[row_indexer,col_indexer] = value instead\n",
            "\n",
            "See the caveats in the documentation: https://pandas.pydata.org/pandas-docs/stable/user_guide/indexing.html#returning-a-view-versus-a-copy\n",
            "  df[\"Embarked\"] = df[\"Embarked\"].map({\"C\": 0, \"Q\": 1, \"S\": 2})\n"
          ]
        }
      ]
    },
    {
      "cell_type": "code",
      "source": [
        "# 讀取數據集\n",
        "df = pd.read_csv(\"titanic.csv\")\n",
        "\n",
        "# 刪除 Embarked 缺失值（因為只有 2 筆，相對影響不大。）\n",
        "df = df.dropna(subset=[\"Embarked\"])\n",
        "\n",
        "# 因為 Age 和 Name 的相關性建立 Title 特徵，並根據 Title 來進行後續年齡補值\n",
        "# 先將姓和名分開成兩部分(根據\", \")並拿第二部分([1])，然後進一步分割(根據\".\")得到，並取第一部分得到職稱。\n",
        "df[\"Title\"] = df[\"Name\"].str.split(\", \", expand=True)[1].str.split(\".\", expand=True)[0]\n",
        "\n",
        "# 計算每個 Title 的平均(mean)年齡並將結果轉換成字典\n",
        "age_means = df.groupby(\"Title\")[\"Age\"].mean().to_dict()\n",
        "\n",
        "# 將缺失的 Age 補上字典中對應 Title 的平均年齡\n",
        "df[\"Age\"] = df.apply(lambda row: age_means[row[\"Title\"]] if pd.isnull(row[\"Age\"]) else row[\"Age\"], axis=1)\n",
        "\n",
        "# 轉換 Sex 和 Embarked 為數值類別\n",
        "df[\"Sex\"] = df[\"Sex\"].map({\"male\": 0, \"female\": 1})\n",
        "df[\"Embarked\"] = df[\"Embarked\"].map({\"C\": 0, \"Q\": 1, \"S\": 2})\n",
        "\n",
        "print(df.shape)\n",
        "\n",
        "# 特徵選擇\n",
        "X = df[['Sex', 'Age', 'SibSp', 'Parch', 'Fare', 'Pclass', 'Embarked']]\n",
        "y = df['Survived']\n",
        "\n",
        "# 分割訓練與測試集\n",
        "X_train, X_test, y_train, y_test = train_test_split(X, y, test_size=0.2, random_state=12)\n",
        "\n",
        "# 訓練模型\n",
        "model = RandomForestClassifier(n_estimators=1500, random_state=12)\n",
        "model.fit(X_train, y_train)\n",
        "\n",
        "# 預測\n",
        "y_pred = model.predict(X_test)\n",
        "accuracy_combined = accuracy_score(y_test, y_pred)\n",
        "\n",
        "print(\"Accuracy (Comprehensive Approach):\", accuracy_combined)"
      ],
      "metadata": {
        "colab": {
          "base_uri": "https://localhost:8080/"
        },
        "id": "_GEhbUWrasDs",
        "outputId": "04b09921-ba84-4447-881c-ceabfec49f0c"
      },
      "execution_count": null,
      "outputs": [
        {
          "output_type": "stream",
          "name": "stdout",
          "text": [
            "(889, 13)\n",
            "Accuracy (Comprehensive Approach): 0.848314606741573\n"
          ]
        }
      ]
    },
    {
      "cell_type": "code",
      "source": [
        "print(\"Accuracy (Deletion Method):\", accuracy_deletion)\n",
        "print(\"Accuracy (Imputation Method):\", accuracy_imputation)\n",
        "print(\"Accuracy (Regression Imputation):\", accuracy_regression)\n",
        "print(\"Accuracy (MICE Method):\", accuracy_MICE)\n",
        "print(\"Accuracy (MICE2 Method):\", accuracy_MICE2)\n",
        "print(\"Accuracy (combined Approach):\", accuracy_combined)"
      ],
      "metadata": {
        "colab": {
          "base_uri": "https://localhost:8080/"
        },
        "id": "2piUhuiCl0DN",
        "outputId": "c767e971-3890-4391-b447-485e2aa7f389"
      },
      "execution_count": null,
      "outputs": [
        {
          "output_type": "stream",
          "name": "stdout",
          "text": [
            "Accuracy (Deletion Method): 0.7972027972027972\n",
            "Accuracy (Imputation Method): 0.7877094972067039\n",
            "Accuracy (Regression Imputation): 0.7821229050279329\n",
            "Accuracy (MICE Method): 0.7877094972067039\n",
            "Accuracy (MICE2 Method): 0.8156424581005587\n",
            "Accuracy (combined Approach): 0.848314606741573\n"
          ]
        }
      ]
    }
  ]
}